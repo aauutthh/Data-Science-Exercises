{
 "cells": [
  {
   "cell_type": "code",
   "execution_count": 18,
   "metadata": {
    "collapsed": true
   },
   "outputs": [],
   "source": [
    "import pandas as pd\n",
    "import matplotlib.pyplot as plt\n",
    "import numpy as np\n",
    "from scipy import stats"
   ]
  },
  {
   "cell_type": "code",
   "execution_count": 19,
   "metadata": {
    "collapsed": true
   },
   "outputs": [],
   "source": [
    "pd.set_option('display.max_colwidth', -1)"
   ]
  },
  {
   "cell_type": "code",
   "execution_count": 20,
   "metadata": {
    "collapsed": true
   },
   "outputs": [],
   "source": [
    "datetime_parser = lambda x: pd.datetime.strptime(x, '%Y-%m-%d %H:%M:%S')\n",
    "data = pd.read_table(\n",
    "    'dog_rates_tweets.csv', \n",
    "    sep=',',  \n",
    "    index_col=0, \n",
    "    header=1,\n",
    "    names=['id', 'created_at', 'text'], \n",
    "    parse_dates=['created_at'],\n",
    "    date_parser=datetime_parser\n",
    ")"
   ]
  },
  {
   "cell_type": "code",
   "execution_count": 21,
   "metadata": {},
   "outputs": [],
   "source": [
    "data['rating'] = data['text'].str.extract(r'(\\d+(?:\\.\\d+)?)/10', expand=True).astype(float)"
   ]
  },
  {
   "cell_type": "code",
   "execution_count": 22,
   "metadata": {},
   "outputs": [],
   "source": [
    "data = data[data['rating'].notnull() & (data['rating'] <= 20)]"
   ]
  },
  {
   "cell_type": "code",
   "execution_count": 23,
   "metadata": {
    "collapsed": true
   },
   "outputs": [],
   "source": [
    "def to_timestamp(input):\n",
    "    return input.timestamp()\n",
    "\n",
    "data['timestamp'] = data['created_at'].apply(to_timestamp)"
   ]
  },
  {
   "cell_type": "code",
   "execution_count": 26,
   "metadata": {
    "collapsed": true
   },
   "outputs": [],
   "source": [
    "slope, intercept, r_value, p_value, std_err = stats.linregress(data['timestamp'], data['rating'])"
   ]
  },
  {
   "cell_type": "code",
   "execution_count": 27,
   "metadata": {
    "collapsed": true
   },
   "outputs": [],
   "source": [
    "#y = mx+b\n",
    "predicted = np.add(np.multiply(data['timestamp'], slope), intercept) "
   ]
  },
  {
   "cell_type": "code",
   "execution_count": 30,
   "metadata": {},
   "outputs": [
    {
     "name": "stdout",
     "output_type": "stream",
     "text": [
      "id\n",
      "905222050297643008    0.143062\n",
      "905175402502660096    1.142416\n",
      "905098956430086144    1.141358\n",
      "905079268476145665    0.141086\n",
      "904495094014861312    1.133001\n",
      "904363433650515968    0.131179\n",
      "904128876116410369    0.127933\n",
      "903288181222772736    0.116298\n",
      "903047250515025922    0.112964\n",
      "902923889638072321   -0.888743\n",
      "902561653547552769    1.106244\n",
      "902322102602227712   -0.897072\n",
      "902236863959900163    0.101749\n",
      "901564209359704068    1.092440\n",
      "901527884283752448    0.091937\n",
      "901505596159119364    0.091629\n",
      "901484571857911808    1.091338\n",
      "901234726886932482    1.087880\n",
      "901204319462187008    0.087459\n",
      "901096853307097089    0.085972\n",
      "900881534437265408    0.082992\n",
      "900742018732871681    1.081061\n",
      "900502499592990721   -0.922254\n",
      "900391075784916992    0.076204\n",
      "900149487678750720    1.072861\n",
      "900070456102932480    0.071767\n",
      "900025498180493312    1.071145\n",
      "899783474726535170    0.067796\n",
      "899028344733171712    1.057345\n",
      "899013117614665729    0.057134\n",
      "                        ...   \n",
      "700796979434098688    3.314177\n",
      "700747788515020802   -0.686504\n",
      "700518061187723268    0.310317\n",
      "700505138482569216   -1.689862\n",
      "700462010979500032    4.309541\n",
      "700167517596164096    0.305466\n",
      "700151421916807169   -0.694757\n",
      "700143752053182464    0.305137\n",
      "700062718104104960    4.304015\n",
      "700029284593901568    0.303553\n",
      "700002074055016451    1.303176\n",
      "699801817392291840   -0.699595\n",
      "699788877217865730   -1.699774\n",
      "699779630832685056    0.300098\n",
      "699775878809702401   -0.699954\n",
      "699691744225525762    5.298881\n",
      "699446877801091073   -1.704507\n",
      "699434518667751424   -1.704678\n",
      "699423671849451520    0.295172\n",
      "699413908797464576   -0.704964\n",
      "699370870310113280   -0.705559\n",
      "699323444782047232    0.293784\n",
      "699088579889332224    7.290534\n",
      "699079609774645248    2.290410\n",
      "699072405256409088   -1.709690\n",
      "699060279947165696   -1.709858\n",
      "699036661657767936   -2.710184\n",
      "698989035503689728   -2.710843\n",
      "698953797952008193   -0.711331\n",
      "698907974262222848    0.288035\n",
      "Name: timestamp, Length: 1347, dtype: float64\n"
     ]
    }
   ],
   "source": [
    "residual = np.subtract(predicted, data['rating'])"
   ]
  },
  {
   "cell_type": "code",
   "execution_count": 38,
   "metadata": {},
   "outputs": [
    {
     "name": "stdout",
     "output_type": "stream",
     "text": [
      "P Value =  7.79578475263e-77\n"
     ]
    },
    {
     "data": {
      "image/png": "[encoded data removed]",
      "text/plain": [
       "<matplotlib.figure.Figure at 0x21bc8425358>"
      ]
     },
     "metadata": {},
     "output_type": "display_data"
    }
   ],
   "source": [
    "print(\"P Value = \", p_value)\n",
    "plt.subplot(1,2,1)\n",
    "plt.plot(data['created_at'], data['rating'], 'b.', alpha=0.5)\n",
    "plt.plot(data['created_at'], data['timestamp']*slope + intercept, 'r-', linewidth=3)\n",
    "plt.xticks(rotation=25)\n",
    "plt.subplot(1,2,2)\n",
    "plt.hist(residual, bins='auto')\n",
    "plt.show()"
   ]
  }
 ],
 "metadata": {
  "kernelspec": {
   "display_name": "Python 3",
   "language": "python",
   "name": "python3"
  },
  "language_info": {
   "codemirror_mode": {
    "name": "ipython",
    "version": 3
   },
   "file_extension": ".py",
   "mimetype": "text/x-python",
   "name": "python",
   "nbconvert_exporter": "python",
   "pygments_lexer": "ipython3",
   "version": "3.6.1"
  }
 },
 "nbformat": 4,
 "nbformat_minor": 1
}
