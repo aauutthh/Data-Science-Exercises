{
 "cells": [
  {
   "cell_type": "code",
   "execution_count": 1,
   "metadata": {
    "collapsed": true
   },
   "outputs": [],
   "source": [
    "import pandas as pd\n",
    "import matplotlib.pyplot as plt\n",
    "import numpy as np\n",
    "from scipy import stats"
   ]
  },
  {
   "cell_type": "code",
   "execution_count": 2,
   "metadata": {
    "collapsed": true
   },
   "outputs": [],
   "source": [
    "pd.set_option('display.max_colwidth', -1)"
   ]
  },
  {
   "cell_type": "code",
   "execution_count": 3,
   "metadata": {
    "collapsed": true
   },
   "outputs": [],
   "source": [
    "datetime_parser = lambda x: pd.datetime.strptime(x, '%Y-%m-%d %H:%M:%S')\n",
    "data = pd.read_table(\n",
    "    'dog_rates_tweets.csv', \n",
    "    sep=',',  \n",
    "    index_col=0, \n",
    "    header=1,\n",
    "    names=['id', 'created_at', 'text'], \n",
    "    parse_dates=['created_at'],\n",
    "    date_parser=datetime_parser\n",
    ")"
   ]
  },
  {
   "cell_type": "code",
   "execution_count": 4,
   "metadata": {
    "collapsed": true
   },
   "outputs": [],
   "source": [
    "data['rating'] = data['text'].str.extract(r'(\\d+(?:\\.\\d+)?)/10', expand=True).astype(float)"
   ]
  },
  {
   "cell_type": "code",
   "execution_count": 5,
   "metadata": {
    "collapsed": true
   },
   "outputs": [],
   "source": [
    "data = data[data['rating'].notnull() & (data['rating'] <= 20)]"
   ]
  },
  {
   "cell_type": "code",
   "execution_count": 6,
   "metadata": {
    "collapsed": true
   },
   "outputs": [],
   "source": [
    "def to_timestamp(input):\n",
    "    return input.timestamp()\n",
    "\n",
    "data['timestamp'] = data['created_at'].apply(to_timestamp)"
   ]
  },
  {
   "cell_type": "code",
   "execution_count": 7,
   "metadata": {
    "collapsed": true
   },
   "outputs": [],
   "source": [
    "slope, intercept, r_value, p_value, std_err = stats.linregress(data['timestamp'], data['rating'])"
   ]
  },
  {
   "cell_type": "code",
   "execution_count": 8,
   "metadata": {
    "collapsed": true
   },
   "outputs": [],
   "source": [
    "#y = mx+b\n",
    "predicted = np.add(np.multiply(data['timestamp'], slope), intercept) "
   ]
  },
  {
   "cell_type": "code",
   "execution_count": 17,
   "metadata": {
    "collapsed": true
   },
   "outputs": [],
   "source": [
    "residual = np.subtract(predicted, data['rating'])"
   ]
  },
  {
   "cell_type": "code",
   "execution_count": 23,
   "metadata": {},
   "outputs": [
    {
     "name": "stdout",
     "output_type": "stream",
     "text": [
      "5.80460992352e-08\n",
      "-74.1978549816\n",
      "id\n",
      "905222050297643008   1504681929.00\n",
      "905175402502660096   1504670807.00\n",
      "905098956430086144   1504652581.00\n",
      "905079268476145665   1504647887.00\n",
      "904495094014861312   1504508609.00\n",
      "904363433650515968   1504477219.00\n",
      "904128876116410369   1504421296.00\n",
      "903288181222772736   1504220859.00\n",
      "903047250515025922   1504163416.00\n",
      "902923889638072321   1504134005.00\n",
      "902561653547552769   1504047641.00\n",
      "902322102602227712   1503990528.00\n",
      "902236863959900163   1503970205.00\n",
      "901564209359704068   1503809832.00\n",
      "901527884283752448   1503801171.00\n",
      "901505596159119364   1503795857.00\n",
      "901484571857911808   1503790845.00\n",
      "901234726886932482   1503731277.00\n",
      "901204319462187008   1503724027.00\n",
      "901096853307097089   1503698406.00\n",
      "900881534437265408   1503647070.00\n",
      "900742018732871681   1503613806.00\n",
      "900502499592990721   1503556701.00\n",
      "900391075784916992   1503530135.00\n",
      "900149487678750720   1503472536.00\n",
      "900070456102932480   1503453693.00\n",
      "900025498180493312   1503442975.00\n",
      "899783474726535170   1503385272.00\n",
      "899028344733171712   1503205235.00\n",
      "899013117614665729   1503201604.00\n",
      "                          ...     \n",
      "700796979434098688   1455946794.00\n",
      "700747788515020802   1455935066.00\n",
      "700518061187723268   1455880295.00\n",
      "700505138482569216   1455877214.00\n",
      "700462010979500032   1455866932.00\n",
      "700167517596164096   1455796719.00\n",
      "700151421916807169   1455792881.00\n",
      "700143752053182464   1455791053.00\n",
      "700062718104104960   1455771733.00\n",
      "700029284593901568   1455763762.00\n",
      "700002074055016451   1455757274.00\n",
      "699801817392291840   1455709529.00\n",
      "699788877217865730   1455706444.00\n",
      "699779630832685056   1455704239.00\n",
      "699775878809702401   1455703345.00\n",
      "699691744225525762   1455683286.00\n",
      "699446877801091073   1455624905.00\n",
      "699434518667751424   1455621958.00\n",
      "699423671849451520   1455619372.00\n",
      "699413908797464576   1455617044.00\n",
      "699370870310113280   1455606783.00\n",
      "699323444782047232   1455595476.00\n",
      "699088579889332224   1455539480.00\n",
      "699079609774645248   1455537341.00\n",
      "699072405256409088   1455535624.00\n",
      "699060279947165696   1455532733.00\n",
      "699036661657767936   1455527102.00\n",
      "698989035503689728   1455515747.00\n",
      "698953797952008193   1455507346.00\n",
      "698907974262222848   1455496420.00\n",
      "Name: timestamp, Length: 1347, dtype: float64\n"
     ]
    }
   ],
   "source": [
    "print(slope)\n",
    "print(intercept)\n",
    "pd.options.display.float_format = '{:.2f}'.format\n",
    "print(data['timestamp'])"
   ]
  },
  {
   "cell_type": "code",
   "execution_count": 10,
   "metadata": {},
   "outputs": [
    {
     "name": "stdout",
     "output_type": "stream",
     "text": [
      "P Value =  7.79578475263e-77\n"
     ]
    }
   ],
   "source": [
    "print(\"P Value = \", p_value)\n",
    "plt.figure(1)\n",
    "plt.plot(data['created_at'], data['rating'], 'b.', alpha=0.5, label='Ratings')\n",
    "x = plt.plot(data['created_at'], data['timestamp']*slope + intercept, 'r-', linewidth=3, label='Line of Best Fit')\n",
    "plt.xticks(rotation=25)\n",
    "plt.legend(loc='lower right')\n",
    "plt.xlabel('Date of Tweet')\n",
    "plt.ylabel('Rating')\n",
    "plt.savefig('dog_ratings_1')\n",
    "\n",
    "plt.figure(2)\n",
    "plt.hist(residual, bins='auto')\n",
    "plt.xlabel('Distance from Line of Best Fit')\n",
    "plt.ylabel('Number of Points')\n",
    "plt.savefig('dog_ratings_2')"
   ]
  },
  {
   "cell_type": "code",
   "execution_count": 11,
   "metadata": {
    "collapsed": true
   },
   "outputs": [],
   "source": [
    "plt.clf()\n",
    "plt.cla()\n",
    "plt.close()"
   ]
  },
  {
   "cell_type": "code",
   "execution_count": null,
   "metadata": {
    "collapsed": true
   },
   "outputs": [],
   "source": []
  }
 ],
 "metadata": {
  "kernelspec": {
   "display_name": "Python 3",
   "language": "python",
   "name": "python3"
  },
  "language_info": {
   "codemirror_mode": {
    "name": "ipython",
    "version": 3
   },
   "file_extension": ".py",
   "mimetype": "text/x-python",
   "name": "python",
   "nbconvert_exporter": "python",
   "pygments_lexer": "ipython3",
   "version": "3.6.1"
  }
 },
 "nbformat": 4,
 "nbformat_minor": 1
}
