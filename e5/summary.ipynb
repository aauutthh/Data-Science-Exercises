{
 "cells": [
  {
   "cell_type": "code",
   "execution_count": 1,
   "metadata": {
    "collapsed": true
   },
   "outputs": [],
   "source": [
    "import pandas as pd\n",
    "import os\n",
    "import re"
   ]
  },
  {
   "cell_type": "code",
   "execution_count": 2,
   "metadata": {
    "collapsed": true
   },
   "outputs": [],
   "source": [
    "files = [x  for x in os.listdir() if re.match(r'data-\\d+\\.csv', x)]"
   ]
  },
  {
   "cell_type": "code",
   "execution_count": 3,
   "metadata": {
    "collapsed": true
   },
   "outputs": [],
   "source": [
    "output = \"\"\n",
    "for f in files:\n",
    "    data = pd.read_csv(f)\n",
    "    output += \"File: \" + f + '\\n'\n",
    "    output += \"X Value - Mean %f, Standard Deviation %f, Range [%f, %f]\\n\" % (data['x'].mean(), \n",
    "                                                                       data['x'].std(), \n",
    "                                                                       data['x'].min(), \n",
    "                                                                       data['x'].max())\n",
    "    output += \"Y Value - Mean %f, Standard Deviation %f, Range [%f, %f]\\n\" % (data['y'].mean(), \n",
    "                                                                       data['y'].std(), \n",
    "                                                                       data['y'].min(), \n",
    "                                                                       data['y'].max())\n",
    "    output += \"Correlation Coefficient: %f\\n\" % data['x'].corr(data['y'])\n",
    "    output += '=' * 85 + '\\n'"
   ]
  },
  {
   "cell_type": "code",
   "execution_count": 4,
   "metadata": {},
   "outputs": [
    {
     "name": "stdout",
     "output_type": "stream",
     "text": [
      "File: data-1.csv\n",
      "X Value - Mean 8.717696, Standard Deviation 12.155517, Range [-22.635878, 35.237055]\n",
      "Y Value - Mean 12.522874, Standard Deviation 6.639964, Range [-2.565088, 27.384153]\n",
      "Correlation Coefficient: 0.950326\n",
      "=====================================================================================\n",
      "File: data-2.csv\n",
      "X Value - Mean -0.710787, Standard Deviation 11.481584, Range [-33.271113, 27.647000]\n",
      "Y Value - Mean -0.748987, Standard Deviation 6.257918, Range [-18.621804, 14.147315]\n",
      "Correlation Coefficient: 0.955153\n",
      "=====================================================================================\n",
      "File: data-3.csv\n",
      "X Value - Mean 0.968907, Standard Deviation 2.235558, Range [-2.449064, 4.518885]\n",
      "Y Value - Mean 8.508535, Standard Deviation 1.149301, Range [6.641734, 10.551871]\n",
      "Correlation Coefficient: 0.981937\n",
      "=====================================================================================\n",
      "File: data-4.csv\n",
      "X Value - Mean 49.905086, Standard Deviation 28.508611, Range [0.000000, 87.376700]\n",
      "Y Value - Mean 18.553837, Standard Deviation 16.545896, Range [0.000000, 44.565040]\n",
      "Correlation Coefficient: -0.081193\n",
      "=====================================================================================\n",
      "File: data-5.csv\n",
      "X Value - Mean 49.909994, Standard Deviation 28.500001, Range [4.337892, 91.052863]\n",
      "Y Value - Mean 18.555525, Standard Deviation 16.540796, Range [0.055498, 49.934197]\n",
      "Correlation Coefficient: -0.088236\n",
      "=====================================================================================\n",
      "File: data-6.csv\n",
      "X Value - Mean 7.216155, Standard Deviation 11.921599, Range [-24.333821, 35.402139]\n",
      "Y Value - Mean 7.602215, Standard Deviation 11.764382, Range [-22.956357, 36.079874]\n",
      "Correlation Coefficient: 0.935069\n",
      "=====================================================================================\n",
      "\n"
     ]
    }
   ],
   "source": [
    "#with open('summary.txt', 'wt') as fd:\n",
    "#    fd.write(output)\n",
    "print(output)"
   ]
  }
 ],
 "metadata": {
  "kernelspec": {
   "display_name": "Python 3",
   "language": "python",
   "name": "python3"
  },
  "language_info": {
   "codemirror_mode": {
    "name": "ipython",
    "version": 3
   },
   "file_extension": ".py",
   "mimetype": "text/x-python",
   "name": "python",
   "nbconvert_exporter": "python",
   "pygments_lexer": "ipython3",
   "version": "3.6.1"
  }
 },
 "nbformat": 4,
 "nbformat_minor": 2
}
