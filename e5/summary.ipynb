{
 "cells": [
  {
   "cell_type": "code",
   "execution_count": 57,
   "metadata": {
    "collapsed": true
   },
   "outputs": [],
   "source": [
    "import pandas as pd\n",
    "import os\n",
    "import re"
   ]
  },
  {
   "cell_type": "code",
   "execution_count": 58,
   "metadata": {
    "collapsed": true
   },
   "outputs": [],
   "source": [
    "files = [x  for x in os.listdir() if re.match(r'data-\\d+\\.csv', x)]"
   ]
  },
  {
   "cell_type": "code",
   "execution_count": 62,
   "metadata": {},
   "outputs": [],
   "source": [
    "output = \"\"\n",
    "for f in files:\n",
    "    data = pd.read_csv(f)\n",
    "    output += \"File: \" + f + '\\n'\n",
    "    output += \"X Value - Mean %f, Standard Deviation %f, Range [%f, %f]\\n\" % (data['x'].mean(), \n",
    "                                                                       data['x'].std(), \n",
    "                                                                       data['x'].min(), \n",
    "                                                                       data['x'].max())\n",
    "    output += \"Y Value - Mean %f, Standard Deviation %f, Range [%f, %f]\\n\" % (data['y'].mean(), \n",
    "                                                                       data['y'].std(), \n",
    "                                                                       data['y'].min(), \n",
    "                                                                       data['y'].max())\n",
    "    output += \"Correlation Coefficient: %f\\n\" % data['x'].corr(data['y'])\n",
    "    output += '=' * 85 + '\\n'"
   ]
  },
  {
   "cell_type": "code",
   "execution_count": 63,
   "metadata": {},
   "outputs": [],
   "source": [
    "with open('summary.txt', 'wt') as fd:\n",
    "    fd.write(output)"
   ]
  },
  {
   "cell_type": "code",
   "execution_count": null,
   "metadata": {
    "collapsed": true
   },
   "outputs": [],
   "source": []
  },
  {
   "cell_type": "code",
   "execution_count": null,
   "metadata": {
    "collapsed": true
   },
   "outputs": [],
   "source": []
  }
 ],
 "metadata": {
  "kernelspec": {
   "display_name": "Python 3",
   "language": "python",
   "name": "python3"
  },
  "language_info": {
   "codemirror_mode": {
    "name": "ipython",
    "version": 3
   },
   "file_extension": ".py",
   "mimetype": "text/x-python",
   "name": "python",
   "nbconvert_exporter": "python",
   "pygments_lexer": "ipython3",
   "version": "3.6.1"
  }
 },
 "nbformat": 4,
 "nbformat_minor": 2
}
